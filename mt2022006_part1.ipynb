{
 "cells": [
  {
   "cell_type": "code",
   "execution_count": 1,
   "metadata": {
    "_cell_guid": "b1076dfc-b9ad-4769-8c92-a6c4dae69d19",
    "_uuid": "8f2839f25d086af736a60e9eeb907d3b93b6e0e5"
   },
   "outputs": [],
   "source": [
    "# This Python 3 environment comes with many helpful analytics libraries installed\n",
    "# It is defined by the kaggle/python Docker image: https://github.com/kaggle/docker-python\n",
    "# For example, here's several helpful packages to load\n",
    "\n",
    "import numpy as np # linear algebra\n",
    "import pandas as pd # data processing, CSV file I/O (e.g. pd.read_csv)\n",
    "\n",
    "# Input data files are available in the read-only \"../input/\" directory\n",
    "# For example, running this (by clicking run or pressing Shift+Enter) will list all files under the input directory\n",
    "\n",
    "import os\n",
    "for dirname, _, filenames in os.walk('/kaggle/input'):\n",
    "    for filename in filenames:\n",
    "        print(os.path.join(dirname, filename))\n",
    "# You can write up to 20GB to the current directory (/kaggle/working/) that gets preserved as output when you create a version using \"Save & Run All\" \n",
    "# You can also write temporary files to /kaggle/temp/, but they won't be saved outside of the current session"
   ]
  },
  {
   "cell_type": "markdown",
   "metadata": {},
   "source": [
    "# Imported Libraries"
   ]
  },
  {
   "cell_type": "code",
   "execution_count": 2,
   "metadata": {},
   "outputs": [],
   "source": [
    "import sklearn.model_selection as ms\n",
    "from sklearn.model_selection import train_test_split as split\n",
    "from matplotlib import pyplot as plt"
   ]
  },
  {
   "cell_type": "code",
   "execution_count": 3,
   "metadata": {},
   "outputs": [],
   "source": [
    "df_x=pd.read_csv('C:\\\\Users\\\\adwai\\\\Downloads\\\\train_X.csv')\n",
    "df_y=pd.read_csv('C:\\\\Users\\\\adwai\\\\Downloads\\\\train_y.csv')"
   ]
  },
  {
   "cell_type": "markdown",
   "metadata": {},
   "source": [
    "# Checking if data is read successfully or not"
   ]
  },
  {
   "cell_type": "code",
   "execution_count": 4,
   "metadata": {},
   "outputs": [
    {
     "data": {
      "text/html": [
       "<div>\n",
       "<style scoped>\n",
       "    .dataframe tbody tr th:only-of-type {\n",
       "        vertical-align: middle;\n",
       "    }\n",
       "\n",
       "    .dataframe tbody tr th {\n",
       "        vertical-align: top;\n",
       "    }\n",
       "\n",
       "    .dataframe thead th {\n",
       "        text-align: right;\n",
       "    }\n",
       "</style>\n",
       "<table border=\"1\" class=\"dataframe\">\n",
       "  <thead>\n",
       "    <tr style=\"text-align: right;\">\n",
       "      <th></th>\n",
       "      <th>Unnamed: 0</th>\n",
       "      <th>1x1</th>\n",
       "      <th>1x2</th>\n",
       "      <th>1x3</th>\n",
       "      <th>1x4</th>\n",
       "      <th>1x5</th>\n",
       "      <th>1x6</th>\n",
       "      <th>1x7</th>\n",
       "      <th>1x8</th>\n",
       "      <th>1x9</th>\n",
       "      <th>...</th>\n",
       "      <th>28x19</th>\n",
       "      <th>28x20</th>\n",
       "      <th>28x21</th>\n",
       "      <th>28x22</th>\n",
       "      <th>28x23</th>\n",
       "      <th>28x24</th>\n",
       "      <th>28x25</th>\n",
       "      <th>28x26</th>\n",
       "      <th>28x27</th>\n",
       "      <th>28x28</th>\n",
       "    </tr>\n",
       "  </thead>\n",
       "  <tbody>\n",
       "    <tr>\n",
       "      <th>0</th>\n",
       "      <td>0</td>\n",
       "      <td>0</td>\n",
       "      <td>0</td>\n",
       "      <td>0</td>\n",
       "      <td>0</td>\n",
       "      <td>0</td>\n",
       "      <td>0</td>\n",
       "      <td>0</td>\n",
       "      <td>0</td>\n",
       "      <td>0</td>\n",
       "      <td>...</td>\n",
       "      <td>0</td>\n",
       "      <td>0</td>\n",
       "      <td>0</td>\n",
       "      <td>0</td>\n",
       "      <td>0</td>\n",
       "      <td>0</td>\n",
       "      <td>0</td>\n",
       "      <td>0</td>\n",
       "      <td>0</td>\n",
       "      <td>0</td>\n",
       "    </tr>\n",
       "    <tr>\n",
       "      <th>1</th>\n",
       "      <td>1</td>\n",
       "      <td>0</td>\n",
       "      <td>0</td>\n",
       "      <td>0</td>\n",
       "      <td>0</td>\n",
       "      <td>0</td>\n",
       "      <td>0</td>\n",
       "      <td>0</td>\n",
       "      <td>0</td>\n",
       "      <td>0</td>\n",
       "      <td>...</td>\n",
       "      <td>0</td>\n",
       "      <td>0</td>\n",
       "      <td>0</td>\n",
       "      <td>0</td>\n",
       "      <td>0</td>\n",
       "      <td>0</td>\n",
       "      <td>0</td>\n",
       "      <td>0</td>\n",
       "      <td>0</td>\n",
       "      <td>0</td>\n",
       "    </tr>\n",
       "    <tr>\n",
       "      <th>2</th>\n",
       "      <td>2</td>\n",
       "      <td>0</td>\n",
       "      <td>0</td>\n",
       "      <td>0</td>\n",
       "      <td>0</td>\n",
       "      <td>0</td>\n",
       "      <td>0</td>\n",
       "      <td>0</td>\n",
       "      <td>0</td>\n",
       "      <td>0</td>\n",
       "      <td>...</td>\n",
       "      <td>0</td>\n",
       "      <td>0</td>\n",
       "      <td>0</td>\n",
       "      <td>0</td>\n",
       "      <td>0</td>\n",
       "      <td>0</td>\n",
       "      <td>0</td>\n",
       "      <td>0</td>\n",
       "      <td>0</td>\n",
       "      <td>0</td>\n",
       "    </tr>\n",
       "    <tr>\n",
       "      <th>3</th>\n",
       "      <td>3</td>\n",
       "      <td>0</td>\n",
       "      <td>0</td>\n",
       "      <td>0</td>\n",
       "      <td>0</td>\n",
       "      <td>0</td>\n",
       "      <td>0</td>\n",
       "      <td>0</td>\n",
       "      <td>0</td>\n",
       "      <td>0</td>\n",
       "      <td>...</td>\n",
       "      <td>0</td>\n",
       "      <td>0</td>\n",
       "      <td>0</td>\n",
       "      <td>0</td>\n",
       "      <td>0</td>\n",
       "      <td>0</td>\n",
       "      <td>0</td>\n",
       "      <td>0</td>\n",
       "      <td>0</td>\n",
       "      <td>0</td>\n",
       "    </tr>\n",
       "    <tr>\n",
       "      <th>4</th>\n",
       "      <td>4</td>\n",
       "      <td>0</td>\n",
       "      <td>0</td>\n",
       "      <td>0</td>\n",
       "      <td>0</td>\n",
       "      <td>0</td>\n",
       "      <td>0</td>\n",
       "      <td>0</td>\n",
       "      <td>0</td>\n",
       "      <td>0</td>\n",
       "      <td>...</td>\n",
       "      <td>0</td>\n",
       "      <td>0</td>\n",
       "      <td>0</td>\n",
       "      <td>0</td>\n",
       "      <td>0</td>\n",
       "      <td>0</td>\n",
       "      <td>0</td>\n",
       "      <td>0</td>\n",
       "      <td>0</td>\n",
       "      <td>0</td>\n",
       "    </tr>\n",
       "  </tbody>\n",
       "</table>\n",
       "<p>5 rows × 785 columns</p>\n",
       "</div>"
      ],
      "text/plain": [
       "   Unnamed: 0  1x1  1x2  1x3  1x4  1x5  1x6  1x7  1x8  1x9  ...  28x19  28x20  \\\n",
       "0           0    0    0    0    0    0    0    0    0    0  ...      0      0   \n",
       "1           1    0    0    0    0    0    0    0    0    0  ...      0      0   \n",
       "2           2    0    0    0    0    0    0    0    0    0  ...      0      0   \n",
       "3           3    0    0    0    0    0    0    0    0    0  ...      0      0   \n",
       "4           4    0    0    0    0    0    0    0    0    0  ...      0      0   \n",
       "\n",
       "   28x21  28x22  28x23  28x24  28x25  28x26  28x27  28x28  \n",
       "0      0      0      0      0      0      0      0      0  \n",
       "1      0      0      0      0      0      0      0      0  \n",
       "2      0      0      0      0      0      0      0      0  \n",
       "3      0      0      0      0      0      0      0      0  \n",
       "4      0      0      0      0      0      0      0      0  \n",
       "\n",
       "[5 rows x 785 columns]"
      ]
     },
     "execution_count": 4,
     "metadata": {},
     "output_type": "execute_result"
    }
   ],
   "source": [
    "df_x.head()"
   ]
  },
  {
   "cell_type": "code",
   "execution_count": 5,
   "metadata": {},
   "outputs": [
    {
     "data": {
      "text/html": [
       "<div>\n",
       "<style scoped>\n",
       "    .dataframe tbody tr th:only-of-type {\n",
       "        vertical-align: middle;\n",
       "    }\n",
       "\n",
       "    .dataframe tbody tr th {\n",
       "        vertical-align: top;\n",
       "    }\n",
       "\n",
       "    .dataframe thead th {\n",
       "        text-align: right;\n",
       "    }\n",
       "</style>\n",
       "<table border=\"1\" class=\"dataframe\">\n",
       "  <thead>\n",
       "    <tr style=\"text-align: right;\">\n",
       "      <th></th>\n",
       "      <th>Unnamed: 0</th>\n",
       "      <th>label</th>\n",
       "    </tr>\n",
       "  </thead>\n",
       "  <tbody>\n",
       "    <tr>\n",
       "      <th>0</th>\n",
       "      <td>0</td>\n",
       "      <td>5</td>\n",
       "    </tr>\n",
       "    <tr>\n",
       "      <th>1</th>\n",
       "      <td>1</td>\n",
       "      <td>0</td>\n",
       "    </tr>\n",
       "    <tr>\n",
       "      <th>2</th>\n",
       "      <td>2</td>\n",
       "      <td>4</td>\n",
       "    </tr>\n",
       "    <tr>\n",
       "      <th>3</th>\n",
       "      <td>3</td>\n",
       "      <td>1</td>\n",
       "    </tr>\n",
       "    <tr>\n",
       "      <th>4</th>\n",
       "      <td>4</td>\n",
       "      <td>9</td>\n",
       "    </tr>\n",
       "  </tbody>\n",
       "</table>\n",
       "</div>"
      ],
      "text/plain": [
       "   Unnamed: 0  label\n",
       "0           0      5\n",
       "1           1      0\n",
       "2           2      4\n",
       "3           3      1\n",
       "4           4      9"
      ]
     },
     "execution_count": 5,
     "metadata": {},
     "output_type": "execute_result"
    }
   ],
   "source": [
    "df_y.head()"
   ]
  },
  {
   "cell_type": "markdown",
   "metadata": {},
   "source": [
    "# Checking the Shape of Data"
   ]
  },
  {
   "cell_type": "code",
   "execution_count": 6,
   "metadata": {},
   "outputs": [],
   "source": [
    "row,column = df_x.shape"
   ]
  },
  {
   "cell_type": "code",
   "execution_count": 7,
   "metadata": {},
   "outputs": [
    {
     "data": {
      "text/plain": [
       "(60000, 785)"
      ]
     },
     "execution_count": 7,
     "metadata": {},
     "output_type": "execute_result"
    }
   ],
   "source": [
    "row,column"
   ]
  },
  {
   "cell_type": "code",
   "execution_count": 8,
   "metadata": {},
   "outputs": [
    {
     "data": {
      "text/plain": [
       "(60000, 2)"
      ]
     },
     "execution_count": 8,
     "metadata": {},
     "output_type": "execute_result"
    }
   ],
   "source": [
    "df_y.shape"
   ]
  },
  {
   "cell_type": "code",
   "execution_count": 9,
   "metadata": {},
   "outputs": [],
   "source": [
    "testx=pd.read_csv('C:\\\\Users\\\\adwai\\\\Downloads\\\\test_X.csv\\\\test_X.csv',index_col=0).to_numpy()\n",
    "testx = testx.T"
   ]
  },
  {
   "cell_type": "code",
   "execution_count": 10,
   "metadata": {},
   "outputs": [],
   "source": [
    "df_x=df_x.iloc[:,1:]\n",
    "df_y=df_y.label"
   ]
  },
  {
   "cell_type": "code",
   "execution_count": 11,
   "metadata": {},
   "outputs": [],
   "source": [
    "# test_x=testx.iloc[:,1:]"
   ]
  },
  {
   "cell_type": "markdown",
   "metadata": {},
   "source": [
    "# Splitting the data for training and testing"
   ]
  },
  {
   "cell_type": "code",
   "execution_count": 12,
   "metadata": {},
   "outputs": [],
   "source": [
    "train_x,test_x,train_y,test_y=split(df_x,df_y,test_size=0.15,random_state=69,shuffle=True)"
   ]
  },
  {
   "cell_type": "code",
   "execution_count": 13,
   "metadata": {},
   "outputs": [],
   "source": [
    "def pixels():\n",
    "    return 255\n",
    "\n",
    "train_x=np.array(train_x).T\n",
    "train_x=train_x/pixels()\n",
    "\n",
    "test_x=np.array(test_x).T\n",
    "test_x=test_x/pixels()\n",
    "\n",
    "train_y=np.array(train_y).reshape(-1,)\n",
    "test_y=np.array(test_y).reshape(-1,)\n",
    "\n",
    "\n",
    "testx=np.array(testx)"
   ]
  },
  {
   "cell_type": "code",
   "execution_count": 14,
   "metadata": {},
   "outputs": [
    {
     "data": {
      "text/plain": [
       "(784, 51000)"
      ]
     },
     "execution_count": 14,
     "metadata": {},
     "output_type": "execute_result"
    }
   ],
   "source": [
    "train_x.shape"
   ]
  },
  {
   "cell_type": "code",
   "execution_count": 15,
   "metadata": {},
   "outputs": [
    {
     "data": {
      "text/plain": [
       "(51000,)"
      ]
     },
     "execution_count": 15,
     "metadata": {},
     "output_type": "execute_result"
    }
   ],
   "source": [
    "train_y.shape"
   ]
  },
  {
   "cell_type": "code",
   "execution_count": 16,
   "metadata": {},
   "outputs": [
    {
     "data": {
      "text/plain": [
       "(784, 9000)"
      ]
     },
     "execution_count": 16,
     "metadata": {},
     "output_type": "execute_result"
    }
   ],
   "source": [
    "test_x.shape"
   ]
  },
  {
   "cell_type": "code",
   "execution_count": 17,
   "metadata": {},
   "outputs": [
    {
     "data": {
      "text/plain": [
       "(9000,)"
      ]
     },
     "execution_count": 17,
     "metadata": {},
     "output_type": "execute_result"
    }
   ],
   "source": [
    "test_y.shape"
   ]
  },
  {
   "cell_type": "markdown",
   "metadata": {},
   "source": [
    "# Activtion Function\n",
    "\n",
    "# 1. RELU (Hidden Layer)"
   ]
  },
  {
   "cell_type": "code",
   "execution_count": 18,
   "metadata": {},
   "outputs": [],
   "source": [
    "# Relu function defintion\n",
    "def Relu(Z):\n",
    "    return np.maximum(Z, 0)\n",
    "\n",
    "\n",
    "#Derivative of relu function\n",
    "def Relu_derivative(Z):\n",
    "    return Z > 0"
   ]
  },
  {
   "cell_type": "markdown",
   "metadata": {},
   "source": [
    "# 2. Softmax (Output Layer)"
   ]
  },
  {
   "cell_type": "code",
   "execution_count": 19,
   "metadata": {},
   "outputs": [],
   "source": [
    "# Softmax function definition\n",
    "def softmax(Z):\n",
    "    V = np.exp(Z) / sum(np.exp(Z))\n",
    "    return V"
   ]
  },
  {
   "cell_type": "code",
   "execution_count": 20,
   "metadata": {},
   "outputs": [],
   "source": [
    "def adder(a, b) :\n",
    "    return a + b\n",
    "def multiplier(a, b) :\n",
    "    return a * b\n",
    "def inverse(a) :\n",
    "    return 1/a\n",
    "def subtractor(a,b):\n",
    "    return a-b\n",
    "\n",
    "\n",
    "def param_init_values():\n",
    "    W1 = np.random.rand(10, 784) - 0.5\n",
    "    W2 = np.random.rand(10, 10) - 0.5\n",
    "    b1 = np.random.rand(10, 1) - 0.5\n",
    "    b2 = np.random.rand(10, 1) - 0.5\n",
    "    return W1, b1, W2, b2\n",
    "    \n",
    "def fwd_prop(W1, b1, W2, b2, X):\n",
    "    Z1 = adder(W1.dot(X) , b1)\n",
    "    A1 = Relu(Z1)\n",
    "    Z2 = adder(W2.dot(A1) , b2)\n",
    "    A2 = softmax(Z2)\n",
    "    return Z1, A1, Z2, A2\n",
    "\n",
    "#We have to one hot encode Y (which is Total examples)\n",
    "def one_hot_encod(Y):\n",
    "    one_hot_Y = np.zeros((Y.size, Y.max() + 1))\n",
    "    one_hot_Y[np.arange(Y.size), Y] = 1\n",
    "    one_hot_Y = one_hot_Y.T\n",
    "    return one_hot_Y\n",
    "\n",
    "def bwd_prop(Z1, A1, Z2, A2, W1, W2, X, Y):\n",
    "    one_hot_Y = one_hot_encod(Y)\n",
    "    dZ2 = A2 - one_hot_Y\n",
    "    dW2 = multiplier(inverse(row) , dZ2.dot(A1.T)) \n",
    "    db2 = multiplier(inverse(row) , np.sum(dZ2))\n",
    "    dZ1 = multiplier(W2.T.dot(dZ2), Relu_derivative(Z1))\n",
    "    dW1 = multiplier(inverse(row) , dZ1.dot(X.T))\n",
    "    db1 = multiplier(inverse(row) , np.sum(dZ1))\n",
    "    return dW1, db1, dW2, db2\n",
    "\n",
    "def updated_params(W1, b1, W2, b2, dW1, db1, dW2, db2, alpha):\n",
    "    W1 = subtractor(W1 , multiplier(alpha, dW1))\n",
    "    b1 = subtractor(b1 , multiplier(alpha, db1))    \n",
    "    W2 = subtractor(W2 , multiplier(alpha, dW2))  \n",
    "    b2 = subtractor(b2 , multiplier(alpha, db2))    \n",
    "    return W1, b1, W2, b2"
   ]
  },
  {
   "cell_type": "code",
   "execution_count": 21,
   "metadata": {},
   "outputs": [],
   "source": [
    "def printer(i):\n",
    "    print(\"Iteration: \", i)\n",
    "    return\n",
    "\n",
    "def prediction(A2):\n",
    "    return np.argmax(A2, 0)\n",
    "\n",
    "def accuracy(predictions, Y):\n",
    "    print(predictions, Y)\n",
    "    return np.sum(predictions == Y) / Y.size\n",
    "\n",
    "def gradient_descent(X, Y, alpha, iterations):\n",
    "    W1, b1, W2, b2 = param_init_values()\n",
    "    for i in range(iterations):\n",
    "        Z1, A1, Z2, A2 = fwd_prop(W1, b1, W2, b2, X)\n",
    "        dW1, db1, dW2, db2 = bwd_prop(Z1, A1, Z2, A2, W1, W2, X, Y)\n",
    "        W1, b1, W2, b2 = updated_params(W1, b1, W2, b2, dW1, db1, dW2, db2, alpha)\n",
    "        if i % 100 == 0:\n",
    "            # print(\"Iteration: \", i)\n",
    "            printer(i)\n",
    "            predictions = prediction(A2)\n",
    "            print(accuracy(predictions, Y))\n",
    "    return W1, b1, W2, b2"
   ]
  },
  {
   "cell_type": "code",
   "execution_count": 22,
   "metadata": {},
   "outputs": [
    {
     "data": {
      "text/plain": [
       "(784, 51000)"
      ]
     },
     "execution_count": 22,
     "metadata": {},
     "output_type": "execute_result"
    }
   ],
   "source": [
    "train_x.shape"
   ]
  },
  {
   "cell_type": "code",
   "execution_count": 23,
   "metadata": {},
   "outputs": [
    {
     "name": "stdout",
     "output_type": "stream",
     "text": [
      "Iteration:  0\n",
      "[2 0 2 ... 7 5 0] [7 9 3 ... 6 7 8]\n",
      "0.07396078431372549\n",
      "Iteration:  100\n",
      "[7 9 3 ... 6 7 8] [7 9 3 ... 6 7 8]\n",
      "0.8039019607843138\n",
      "Iteration:  200\n",
      "[7 9 3 ... 6 7 8] [7 9 3 ... 6 7 8]\n",
      "0.8544901960784314\n",
      "Iteration:  300\n",
      "[7 9 3 ... 6 7 8] [7 9 3 ... 6 7 8]\n",
      "0.8726274509803922\n",
      "Iteration:  400\n",
      "[7 9 3 ... 6 7 8] [7 9 3 ... 6 7 8]\n",
      "0.8833529411764706\n",
      "Iteration:  500\n",
      "[7 9 3 ... 6 7 8] [7 9 3 ... 6 7 8]\n",
      "0.8897647058823529\n",
      "Iteration:  600\n",
      "[7 9 3 ... 6 7 8] [7 9 3 ... 6 7 8]\n",
      "0.8951568627450981\n",
      "Iteration:  700\n",
      "[7 9 3 ... 6 7 8] [7 9 3 ... 6 7 8]\n",
      "0.8999803921568628\n",
      "Iteration:  800\n",
      "[7 9 3 ... 6 7 8] [7 9 3 ... 6 7 8]\n",
      "0.9038235294117647\n",
      "Iteration:  900\n",
      "[7 9 3 ... 6 7 8] [7 9 3 ... 6 7 8]\n",
      "0.9069607843137255\n",
      "Iteration:  1000\n",
      "[7 9 3 ... 6 7 8] [7 9 3 ... 6 7 8]\n",
      "0.9091960784313725\n",
      "Iteration:  1100\n",
      "[7 9 3 ... 6 7 8] [7 9 3 ... 6 7 8]\n",
      "0.9117058823529411\n",
      "Iteration:  1200\n",
      "[7 9 3 ... 6 7 8] [7 9 3 ... 6 7 8]\n",
      "0.9140784313725491\n",
      "Iteration:  1300\n",
      "[7 9 3 ... 6 7 8] [7 9 3 ... 6 7 8]\n",
      "0.9166470588235294\n",
      "Iteration:  1400\n",
      "[7 9 3 ... 6 7 8] [7 9 3 ... 6 7 8]\n",
      "0.9187647058823529\n",
      "Iteration:  1500\n",
      "[7 9 3 ... 6 7 8] [7 9 3 ... 6 7 8]\n",
      "0.9203333333333333\n",
      "Iteration:  1600\n",
      "[7 9 3 ... 6 7 8] [7 9 3 ... 6 7 8]\n",
      "0.9218627450980392\n",
      "Iteration:  1700\n",
      "[7 9 3 ... 6 7 8] [7 9 3 ... 6 7 8]\n",
      "0.9236666666666666\n",
      "Iteration:  1800\n",
      "[7 9 3 ... 6 7 8] [7 9 3 ... 6 7 8]\n",
      "0.9247843137254902\n",
      "Iteration:  1900\n",
      "[7 9 3 ... 6 7 8] [7 9 3 ... 6 7 8]\n",
      "0.9263921568627451\n",
      "Iteration:  2000\n",
      "[7 9 3 ... 6 7 8] [7 9 3 ... 6 7 8]\n",
      "0.9277058823529412\n",
      "Iteration:  2100\n",
      "[7 9 3 ... 6 7 8] [7 9 3 ... 6 7 8]\n",
      "0.9287254901960784\n",
      "Iteration:  2200\n",
      "[7 9 3 ... 6 7 8] [7 9 3 ... 6 7 8]\n",
      "0.9297450980392157\n",
      "Iteration:  2300\n",
      "[7 9 3 ... 6 7 8] [7 9 3 ... 6 7 8]\n",
      "0.9306274509803921\n",
      "Iteration:  2400\n",
      "[7 9 3 ... 6 7 8] [7 9 3 ... 6 7 8]\n",
      "0.9315490196078431\n",
      "Iteration:  2500\n",
      "[7 9 3 ... 6 7 8] [7 9 3 ... 6 7 8]\n",
      "0.9324117647058824\n",
      "Iteration:  2600\n",
      "[7 9 3 ... 6 7 8] [7 9 3 ... 6 7 8]\n",
      "0.9327450980392157\n",
      "Iteration:  2700\n",
      "[7 9 3 ... 6 7 8] [7 9 3 ... 6 7 8]\n",
      "0.9335098039215687\n",
      "Iteration:  2800\n",
      "[7 9 3 ... 6 7 8] [7 9 3 ... 6 7 8]\n",
      "0.9337254901960784\n",
      "Iteration:  2900\n",
      "[7 9 3 ... 6 7 8] [7 9 3 ... 6 7 8]\n",
      "0.9347450980392157\n",
      "Iteration:  3000\n",
      "[7 9 3 ... 6 7 8] [7 9 3 ... 6 7 8]\n",
      "0.9354509803921569\n",
      "Iteration:  3100\n",
      "[7 9 3 ... 6 7 8] [7 9 3 ... 6 7 8]\n",
      "0.9361176470588235\n",
      "Iteration:  3200\n",
      "[7 9 3 ... 6 7 8] [7 9 3 ... 6 7 8]\n",
      "0.9365490196078431\n",
      "Iteration:  3300\n",
      "[7 9 3 ... 6 7 8] [7 9 3 ... 6 7 8]\n",
      "0.9369019607843138\n",
      "Iteration:  3400\n",
      "[7 9 3 ... 6 7 8] [7 9 3 ... 6 7 8]\n",
      "0.9373725490196079\n",
      "Iteration:  3500\n",
      "[7 9 3 ... 6 7 8] [7 9 3 ... 6 7 8]\n",
      "0.9375294117647058\n",
      "Iteration:  3600\n",
      "[7 9 3 ... 6 7 8] [7 9 3 ... 6 7 8]\n",
      "0.938156862745098\n",
      "Iteration:  3700\n",
      "[7 9 3 ... 6 7 8] [7 9 3 ... 6 7 8]\n",
      "0.9386470588235294\n",
      "Iteration:  3800\n",
      "[7 9 3 ... 6 7 8] [7 9 3 ... 6 7 8]\n",
      "0.9390392156862745\n",
      "Iteration:  3900\n",
      "[7 9 3 ... 6 7 8] [7 9 3 ... 6 7 8]\n",
      "0.9392745098039216\n",
      "Iteration:  4000\n",
      "[7 9 3 ... 6 7 8] [7 9 3 ... 6 7 8]\n",
      "0.9396666666666667\n",
      "Iteration:  4100\n",
      "[7 9 3 ... 6 7 8] [7 9 3 ... 6 7 8]\n",
      "0.9398823529411765\n",
      "Iteration:  4200\n",
      "[7 9 3 ... 6 7 8] [7 9 3 ... 6 7 8]\n",
      "0.940078431372549\n",
      "Iteration:  4300\n",
      "[7 9 3 ... 6 7 8] [7 9 3 ... 6 7 8]\n",
      "0.9403333333333334\n",
      "Iteration:  4400\n",
      "[7 9 3 ... 6 7 8] [7 9 3 ... 6 7 8]\n",
      "0.9407058823529412\n",
      "Iteration:  4500\n",
      "[7 9 3 ... 6 7 8] [7 9 3 ... 6 7 8]\n",
      "0.941\n",
      "Iteration:  4600\n",
      "[7 9 3 ... 6 7 8] [7 9 3 ... 6 7 8]\n",
      "0.9412941176470588\n",
      "Iteration:  4700\n",
      "[7 9 3 ... 6 7 8] [7 9 3 ... 6 7 8]\n",
      "0.9416862745098039\n",
      "Iteration:  4800\n",
      "[7 9 3 ... 6 7 8] [7 9 3 ... 6 7 8]\n",
      "0.9420588235294117\n",
      "Iteration:  4900\n",
      "[7 9 3 ... 6 7 8] [7 9 3 ... 6 7 8]\n",
      "0.9424117647058824\n",
      "Iteration:  5000\n",
      "[7 9 3 ... 6 7 8] [7 9 3 ... 6 7 8]\n",
      "0.9427254901960784\n",
      "Iteration:  5100\n",
      "[7 9 3 ... 6 7 8] [7 9 3 ... 6 7 8]\n",
      "0.9428039215686275\n",
      "Iteration:  5200\n",
      "[7 9 3 ... 6 7 8] [7 9 3 ... 6 7 8]\n",
      "0.9432549019607843\n",
      "Iteration:  5300\n",
      "[7 9 3 ... 6 7 8] [7 9 3 ... 6 7 8]\n",
      "0.9435490196078431\n",
      "Iteration:  5400\n",
      "[7 9 3 ... 6 7 8] [7 9 3 ... 6 7 8]\n",
      "0.943843137254902\n",
      "Iteration:  5500\n",
      "[7 9 3 ... 6 7 8] [7 9 3 ... 6 7 8]\n",
      "0.9439607843137255\n",
      "Iteration:  5600\n",
      "[7 9 3 ... 6 7 8] [7 9 3 ... 6 7 8]\n",
      "0.9440392156862745\n",
      "Iteration:  5700\n",
      "[7 9 3 ... 6 7 8] [7 9 3 ... 6 7 8]\n",
      "0.9441960784313725\n",
      "Iteration:  5800\n",
      "[7 9 3 ... 6 7 8] [7 9 3 ... 6 7 8]\n",
      "0.9444705882352942\n",
      "Iteration:  5900\n",
      "[7 9 3 ... 6 7 8] [7 9 3 ... 6 7 8]\n",
      "0.9446274509803921\n",
      "Iteration:  6000\n",
      "[7 9 3 ... 6 7 8] [7 9 3 ... 6 7 8]\n",
      "0.9450196078431372\n",
      "Iteration:  6100\n",
      "[7 9 3 ... 6 7 8] [7 9 3 ... 6 7 8]\n",
      "0.9451960784313725\n",
      "Iteration:  6200\n",
      "[7 9 3 ... 6 7 8] [7 9 3 ... 6 7 8]\n",
      "0.9454509803921569\n",
      "Iteration:  6300\n",
      "[7 9 3 ... 6 7 8] [7 9 3 ... 6 7 8]\n",
      "0.9456470588235294\n",
      "Iteration:  6400\n",
      "[7 9 3 ... 6 7 8] [7 9 3 ... 6 7 8]\n",
      "0.945843137254902\n",
      "Iteration:  6500\n",
      "[7 9 3 ... 6 7 8] [7 9 3 ... 6 7 8]\n",
      "0.9459607843137255\n",
      "Iteration:  6600\n",
      "[7 9 3 ... 6 7 8] [7 9 3 ... 6 7 8]\n",
      "0.9459019607843138\n",
      "Iteration:  6700\n",
      "[7 9 3 ... 6 7 8] [7 9 3 ... 6 7 8]\n",
      "0.9459607843137255\n",
      "Iteration:  6800\n",
      "[7 9 3 ... 6 7 8] [7 9 3 ... 6 7 8]\n",
      "0.946078431372549\n",
      "Iteration:  6900\n",
      "[7 9 3 ... 6 7 8] [7 9 3 ... 6 7 8]\n",
      "0.9462352941176471\n",
      "Iteration:  7000\n",
      "[7 9 3 ... 6 7 8] [7 9 3 ... 6 7 8]\n",
      "0.9463333333333334\n",
      "Iteration:  7100\n",
      "[7 9 3 ... 6 7 8] [7 9 3 ... 6 7 8]\n",
      "0.9465098039215686\n",
      "Iteration:  7200\n",
      "[7 9 3 ... 6 7 8] [7 9 3 ... 6 7 8]\n",
      "0.9467058823529412\n",
      "Iteration:  7300\n",
      "[7 9 3 ... 6 7 8] [7 9 3 ... 6 7 8]\n",
      "0.9468235294117647\n",
      "Iteration:  7400\n",
      "[7 9 3 ... 6 7 8] [7 9 3 ... 6 7 8]\n",
      "0.9469411764705883\n",
      "Iteration:  7500\n",
      "[7 9 3 ... 6 7 8] [7 9 3 ... 6 7 8]\n",
      "0.9470588235294117\n",
      "Iteration:  7600\n",
      "[7 9 3 ... 6 7 8] [7 9 3 ... 6 7 8]\n",
      "0.9472156862745098\n",
      "Iteration:  7700\n",
      "[7 9 3 ... 6 7 8] [7 9 3 ... 6 7 8]\n",
      "0.9472941176470588\n",
      "Iteration:  7800\n",
      "[7 9 3 ... 6 7 8] [7 9 3 ... 6 7 8]\n",
      "0.9474117647058824\n",
      "Iteration:  7900\n",
      "[7 9 3 ... 6 7 8] [7 9 3 ... 6 7 8]\n",
      "0.9475882352941176\n",
      "Iteration:  8000\n",
      "[7 9 3 ... 6 7 8] [7 9 3 ... 6 7 8]\n",
      "0.9477450980392157\n",
      "Iteration:  8100\n",
      "[7 9 3 ... 6 7 8] [7 9 3 ... 6 7 8]\n",
      "0.948\n",
      "Iteration:  8200\n",
      "[7 9 3 ... 6 7 8] [7 9 3 ... 6 7 8]\n",
      "0.9482352941176471\n",
      "Iteration:  8300\n",
      "[7 9 3 ... 6 7 8] [7 9 3 ... 6 7 8]\n",
      "0.9483529411764706\n",
      "Iteration:  8400\n",
      "[7 9 3 ... 6 7 8] [7 9 3 ... 6 7 8]\n",
      "0.9484313725490197\n",
      "Iteration:  8500\n",
      "[7 9 3 ... 6 7 8] [7 9 3 ... 6 7 8]\n",
      "0.9485294117647058\n",
      "Iteration:  8600\n",
      "[7 9 3 ... 6 7 8] [7 9 3 ... 6 7 8]\n",
      "0.9487058823529412\n",
      "Iteration:  8700\n",
      "[7 9 3 ... 6 7 8] [7 9 3 ... 6 7 8]\n",
      "0.9487450980392157\n",
      "Iteration:  8800\n",
      "[7 9 3 ... 6 7 8] [7 9 3 ... 6 7 8]\n",
      "0.9489411764705883\n",
      "Iteration:  8900\n",
      "[7 9 3 ... 6 7 8] [7 9 3 ... 6 7 8]\n",
      "0.9490980392156863\n",
      "Iteration:  9000\n",
      "[7 9 3 ... 6 7 8] [7 9 3 ... 6 7 8]\n",
      "0.949156862745098\n",
      "Iteration:  9100\n",
      "[7 9 3 ... 6 7 8] [7 9 3 ... 6 7 8]\n",
      "0.9493529411764706\n",
      "Iteration:  9200\n",
      "[7 9 3 ... 6 7 8] [7 9 3 ... 6 7 8]\n",
      "0.9494901960784313\n",
      "Iteration:  9300\n",
      "[7 9 3 ... 6 7 8] [7 9 3 ... 6 7 8]\n",
      "0.9495686274509804\n",
      "Iteration:  9400\n",
      "[7 9 3 ... 6 7 8] [7 9 3 ... 6 7 8]\n",
      "0.9496470588235294\n",
      "Iteration:  9500\n",
      "[7 9 3 ... 6 7 8] [7 9 3 ... 6 7 8]\n",
      "0.9496862745098039\n",
      "Iteration:  9600\n",
      "[7 9 3 ... 6 7 8] [7 9 3 ... 6 7 8]\n",
      "0.9498627450980393\n",
      "Iteration:  9700\n",
      "[7 9 3 ... 6 7 8] [7 9 3 ... 6 7 8]\n",
      "0.949921568627451\n",
      "Iteration:  9800\n",
      "[7 9 3 ... 6 7 8] [7 9 3 ... 6 7 8]\n",
      "0.9499607843137254\n",
      "Iteration:  9900\n",
      "[7 9 3 ... 6 7 8] [7 9 3 ... 6 7 8]\n",
      "0.9501372549019608\n",
      "Iteration:  10000\n",
      "[7 9 3 ... 6 7 8] [7 9 3 ... 6 7 8]\n",
      "0.9501960784313725\n",
      "Iteration:  10100\n",
      "[7 9 3 ... 6 7 8] [7 9 3 ... 6 7 8]\n",
      "0.9502549019607843\n",
      "Iteration:  10200\n",
      "[7 9 3 ... 6 7 8] [7 9 3 ... 6 7 8]\n",
      "0.9503921568627451\n",
      "Iteration:  10300\n",
      "[7 9 3 ... 6 7 8] [7 9 3 ... 6 7 8]\n",
      "0.9504313725490197\n",
      "Iteration:  10400\n",
      "[7 9 3 ... 6 7 8] [7 9 3 ... 6 7 8]\n",
      "0.9505294117647058\n",
      "Iteration:  10500\n",
      "[7 9 3 ... 6 7 8] [7 9 3 ... 6 7 8]\n",
      "0.9506078431372549\n",
      "Iteration:  10600\n",
      "[7 9 3 ... 6 7 8] [7 9 3 ... 6 7 8]\n",
      "0.9507254901960784\n",
      "Iteration:  10700\n",
      "[7 9 3 ... 6 7 8] [7 9 3 ... 6 7 8]\n",
      "0.9508235294117647\n",
      "Iteration:  10800\n",
      "[7 9 3 ... 6 7 8] [7 9 3 ... 6 7 8]\n",
      "0.950921568627451\n",
      "Iteration:  10900\n",
      "[7 9 3 ... 6 7 8] [7 9 3 ... 6 7 8]\n",
      "0.9508039215686275\n",
      "Iteration:  11000\n",
      "[7 9 3 ... 6 7 8] [7 9 3 ... 6 7 8]\n",
      "0.9509607843137254\n",
      "Iteration:  11100\n",
      "[7 9 3 ... 6 7 8] [7 9 3 ... 6 7 8]\n",
      "0.9509607843137254\n",
      "Iteration:  11200\n",
      "[7 9 3 ... 6 7 8] [7 9 3 ... 6 7 8]\n",
      "0.9509607843137254\n",
      "Iteration:  11300\n",
      "[7 9 3 ... 6 7 8] [7 9 3 ... 6 7 8]\n",
      "0.951078431372549\n",
      "Iteration:  11400\n",
      "[7 9 3 ... 6 7 8] [7 9 3 ... 6 7 8]\n",
      "0.9511176470588235\n",
      "Iteration:  11500\n",
      "[7 9 3 ... 6 7 8] [7 9 3 ... 6 7 8]\n",
      "0.9512352941176471\n",
      "Iteration:  11600\n",
      "[7 9 3 ... 6 7 8] [7 9 3 ... 6 7 8]\n",
      "0.9512549019607843\n",
      "Iteration:  11700\n",
      "[7 9 3 ... 6 7 8] [7 9 3 ... 6 7 8]\n",
      "0.9512941176470588\n",
      "Iteration:  11800\n",
      "[7 9 3 ... 6 7 8] [7 9 3 ... 6 7 8]\n",
      "0.9513921568627451\n",
      "Iteration:  11900\n",
      "[7 9 3 ... 6 7 8] [7 9 3 ... 6 7 8]\n",
      "0.9515686274509804\n",
      "Iteration:  12000\n",
      "[7 9 3 ... 6 7 8] [7 9 3 ... 6 7 8]\n",
      "0.9517254901960784\n",
      "Iteration:  12100\n",
      "[7 9 3 ... 6 7 8] [7 9 3 ... 6 7 8]\n",
      "0.9516862745098039\n",
      "Iteration:  12200\n",
      "[7 9 3 ... 6 7 8] [7 9 3 ... 6 7 8]\n",
      "0.9518039215686275\n",
      "Iteration:  12300\n",
      "[7 9 3 ... 6 7 8] [7 9 3 ... 6 7 8]\n",
      "0.952\n",
      "Iteration:  12400\n",
      "[7 9 3 ... 6 7 8] [7 9 3 ... 6 7 8]\n",
      "0.952078431372549\n",
      "Iteration:  12500\n",
      "[7 9 3 ... 6 7 8] [7 9 3 ... 6 7 8]\n",
      "0.952156862745098\n",
      "Iteration:  12600\n",
      "[7 9 3 ... 6 7 8] [7 9 3 ... 6 7 8]\n",
      "0.9522156862745098\n",
      "Iteration:  12700\n",
      "[7 9 3 ... 6 7 8] [7 9 3 ... 6 7 8]\n",
      "0.9522941176470588\n",
      "Iteration:  12800\n",
      "[7 9 3 ... 6 7 8] [7 9 3 ... 6 7 8]\n",
      "0.9524313725490197\n",
      "Iteration:  12900\n",
      "[7 9 3 ... 6 7 8] [7 9 3 ... 6 7 8]\n",
      "0.9524901960784313\n",
      "Iteration:  13000\n",
      "[7 9 3 ... 6 7 8] [7 9 3 ... 6 7 8]\n",
      "0.9526274509803921\n",
      "Iteration:  13100\n",
      "[7 9 3 ... 6 7 8] [7 9 3 ... 6 7 8]\n",
      "0.9527843137254902\n",
      "Iteration:  13200\n",
      "[7 9 3 ... 6 7 8] [7 9 3 ... 6 7 8]\n",
      "0.9528823529411765\n",
      "Iteration:  13300\n",
      "[7 9 3 ... 6 7 8] [7 9 3 ... 6 7 8]\n",
      "0.952921568627451\n",
      "Iteration:  13400\n",
      "[7 9 3 ... 6 7 8] [7 9 3 ... 6 7 8]\n",
      "0.953\n",
      "Iteration:  13500\n",
      "[7 9 3 ... 6 7 8] [7 9 3 ... 6 7 8]\n",
      "0.953078431372549\n",
      "Iteration:  13600\n",
      "[7 9 3 ... 6 7 8] [7 9 3 ... 6 7 8]\n",
      "0.953156862745098\n",
      "Iteration:  13700\n",
      "[7 9 3 ... 6 7 8] [7 9 3 ... 6 7 8]\n",
      "0.9532156862745098\n",
      "Iteration:  13800\n",
      "[7 9 3 ... 6 7 8] [7 9 3 ... 6 7 8]\n",
      "0.9532156862745098\n",
      "Iteration:  13900\n",
      "[7 9 3 ... 6 7 8] [7 9 3 ... 6 7 8]\n",
      "0.9532941176470588\n",
      "Iteration:  14000\n",
      "[7 9 3 ... 6 7 8] [7 9 3 ... 6 7 8]\n",
      "0.9534509803921568\n",
      "Iteration:  14100\n",
      "[7 9 3 ... 6 7 8] [7 9 3 ... 6 7 8]\n",
      "0.9534901960784313\n",
      "Iteration:  14200\n",
      "[7 9 3 ... 6 7 8] [7 9 3 ... 6 7 8]\n",
      "0.9536274509803921\n",
      "Iteration:  14300\n",
      "[7 9 3 ... 6 7 8] [7 9 3 ... 6 7 8]\n",
      "0.9536862745098039\n",
      "Iteration:  14400\n",
      "[7 9 3 ... 6 7 8] [7 9 3 ... 6 7 8]\n",
      "0.9536470588235294\n",
      "Iteration:  14500\n",
      "[7 9 3 ... 6 7 8] [7 9 3 ... 6 7 8]\n",
      "0.9536862745098039\n",
      "Iteration:  14600\n",
      "[7 9 3 ... 6 7 8] [7 9 3 ... 6 7 8]\n",
      "0.9538627450980393\n",
      "Iteration:  14700\n",
      "[7 9 3 ... 6 7 8] [7 9 3 ... 6 7 8]\n",
      "0.953921568627451\n",
      "Iteration:  14800\n",
      "[7 9 3 ... 6 7 8] [7 9 3 ... 6 7 8]\n",
      "0.9540588235294117\n",
      "Iteration:  14900\n",
      "[7 9 3 ... 6 7 8] [7 9 3 ... 6 7 8]\n",
      "0.9540392156862745\n"
     ]
    }
   ],
   "source": [
    "W1, b1, W2, b2 = gradient_descent(train_x, train_y, 0.32, 15000)"
   ]
  },
  {
   "cell_type": "code",
   "execution_count": 24,
   "metadata": {},
   "outputs": [],
   "source": [
    "def generate_predictions(X, W1, b1, W2, b2):\n",
    "    _, _, _, A2 = fwd_prop(W1, b1, W2, b2, X)\n",
    "    predictions = prediction(A2)\n",
    "    return predictions\n",
    "\n",
    "def prediction_test(index, W1, b1, W2, b2):\n",
    "    image = train_x[:, index, None]\n",
    "    prediction = generate_predictions(train_x[:, index, None], W1, b1, W2, b2)\n",
    "    label = train_y[index]\n",
    "    # print(\"Prediction: \", prediction)\n",
    "    printer(prediction)\n",
    "    print(\"Label: \", label)\n",
    "    \n",
    "    image = multiplier(image.reshape((28, 28)) , 255)\n",
    "    plt.gray()\n",
    "    plt.imshow(image, interpolation='nearest')\n",
    "    plt.show()"
   ]
  },
  {
   "cell_type": "code",
   "execution_count": 25,
   "metadata": {},
   "outputs": [
    {
     "name": "stderr",
     "output_type": "stream",
     "text": [
      "C:\\Users\\adwai\\AppData\\Local\\Temp\\ipykernel_39168\\3304585344.py:3: RuntimeWarning: overflow encountered in exp\n",
      "  V = np.exp(Z) / sum(np.exp(Z))\n",
      "C:\\Users\\adwai\\AppData\\Local\\Temp\\ipykernel_39168\\3304585344.py:3: RuntimeWarning: invalid value encountered in true_divide\n",
      "  V = np.exp(Z) / sum(np.exp(Z))\n"
     ]
    }
   ],
   "source": [
    "y_pred=generate_predictions(testx,W1,b1,W2,b2)\n",
    "submission=pd.DataFrame({'label':y_pred})"
   ]
  },
  {
   "cell_type": "code",
   "execution_count": 26,
   "metadata": {},
   "outputs": [
    {
     "data": {
      "text/html": [
       "<div>\n",
       "<style scoped>\n",
       "    .dataframe tbody tr th:only-of-type {\n",
       "        vertical-align: middle;\n",
       "    }\n",
       "\n",
       "    .dataframe tbody tr th {\n",
       "        vertical-align: top;\n",
       "    }\n",
       "\n",
       "    .dataframe thead th {\n",
       "        text-align: right;\n",
       "    }\n",
       "</style>\n",
       "<table border=\"1\" class=\"dataframe\">\n",
       "  <thead>\n",
       "    <tr style=\"text-align: right;\">\n",
       "      <th></th>\n",
       "      <th>label</th>\n",
       "    </tr>\n",
       "  </thead>\n",
       "  <tbody>\n",
       "    <tr>\n",
       "      <th>0</th>\n",
       "      <td>0</td>\n",
       "    </tr>\n",
       "    <tr>\n",
       "      <th>1</th>\n",
       "      <td>0</td>\n",
       "    </tr>\n",
       "    <tr>\n",
       "      <th>2</th>\n",
       "      <td>1</td>\n",
       "    </tr>\n",
       "    <tr>\n",
       "      <th>3</th>\n",
       "      <td>0</td>\n",
       "    </tr>\n",
       "    <tr>\n",
       "      <th>4</th>\n",
       "      <td>4</td>\n",
       "    </tr>\n",
       "  </tbody>\n",
       "</table>\n",
       "</div>"
      ],
      "text/plain": [
       "   label\n",
       "0      0\n",
       "1      0\n",
       "2      1\n",
       "3      0\n",
       "4      4"
      ]
     },
     "execution_count": 26,
     "metadata": {},
     "output_type": "execute_result"
    }
   ],
   "source": [
    "submission.head()"
   ]
  },
  {
   "cell_type": "code",
   "execution_count": 27,
   "metadata": {},
   "outputs": [],
   "source": [
    "submission.to_csv('answer.csv',index=False)"
   ]
  },
  {
   "cell_type": "code",
   "execution_count": 28,
   "metadata": {
    "tags": []
   },
   "outputs": [
    {
     "name": "stdout",
     "output_type": "stream",
     "text": [
      "Iteration:  [8]\n",
      "Label:  8\n"
     ]
    },
    {
     "data": {
      "image/png": "[encoded data removed]",
      "text/plain": [
       "<Figure size 432x288 with 1 Axes>"
      ]
     },
     "metadata": {
      "needs_background": "light"
     },
     "output_type": "display_data"
    },
    {
     "name": "stdout",
     "output_type": "stream",
     "text": [
      "Iteration:  [2]\n",
      "Label:  8\n"
     ]
    },
    {
     "data": {
      "image/png": "[encoded data removed]",
      "text/plain": [
       "<Figure size 432x288 with 1 Axes>"
      ]
     },
     "metadata": {
      "needs_background": "light"
     },
     "output_type": "display_data"
    },
    {
     "name": "stdout",
     "output_type": "stream",
     "text": [
      "Iteration:  [5]\n",
      "Label:  5\n"
     ]
    },
    {
     "data": {
      "image/png": "[encoded data removed]",
      "text/plain": [
       "<Figure size 432x288 with 1 Axes>"
      ]
     },
     "metadata": {
      "needs_background": "light"
     },
     "output_type": "display_data"
    },
    {
     "name": "stdout",
     "output_type": "stream",
     "text": [
      "Iteration:  [5]\n",
      "Label:  5\n"
     ]
    },
    {
     "data": {
      "image/png": "[encoded data removed]",
      "text/plain": [
       "<Figure size 432x288 with 1 Axes>"
      ]
     },
     "metadata": {
      "needs_background": "light"
     },
     "output_type": "display_data"
    },
    {
     "name": "stdout",
     "output_type": "stream",
     "text": [
      "Iteration:  [1]\n",
      "Label:  1\n"
     ]
    },
    {
     "data": {
      "image/png": "[encoded data removed]",
      "text/plain": [
       "<Figure size 432x288 with 1 Axes>"
      ]
     },
     "metadata": {
      "needs_background": "light"
     },
     "output_type": "display_data"
    },
    {
     "name": "stdout",
     "output_type": "stream",
     "text": [
      "Iteration:  [9]\n",
      "Label:  3\n"
     ]
    },
    {
     "data": {
      "image/png": "[encoded data removed]",
      "text/plain": [
       "<Figure size 432x288 with 1 Axes>"
      ]
     },
     "metadata": {
      "needs_background": "light"
     },
     "output_type": "display_data"
    },
    {
     "name": "stdout",
     "output_type": "stream",
     "text": [
      "Iteration:  [2]\n",
      "Label:  2\n"
     ]
    },
    {
     "data": {
      "image/png": "[encoded data removed]",
      "text/plain": [
       "<Figure size 432x288 with 1 Axes>"
      ]
     },
     "metadata": {
      "needs_background": "light"
     },
     "output_type": "display_data"
    },
    {
     "name": "stdout",
     "output_type": "stream",
     "text": [
      "Iteration:  [7]\n",
      "Label:  7\n"
     ]
    },
    {
     "data": {
      "image/png": "[encoded data removed]",
      "text/plain": [
       "<Figure size 432x288 with 1 Axes>"
      ]
     },
     "metadata": {
      "needs_background": "light"
     },
     "output_type": "display_data"
    }
   ],
   "source": [
    "prediction_test(333, W1, b1, W2, b2)\n",
    "prediction_test(1673, W1, b1, W2, b2)\n",
    "prediction_test(865, W1, b1, W2, b2)\n",
    "prediction_test(2761, W1, b1, W2, b2)\n",
    "prediction_test(354, W1, b1, W2, b2)\n",
    "prediction_test(2675, W1, b1, W2, b2)\n",
    "prediction_test(1759, W1, b1, W2, b2)\n",
    "prediction_test(201, W1, b1, W2, b2)"
   ]
  }
 ],
 "metadata": {
  "kernelspec": {
   "display_name": "Python 3 (ipykernel)",
   "language": "python",
   "name": "python3"
  },
  "language_info": {
   "codemirror_mode": {
    "name": "ipython",
    "version": 3
   },
   "file_extension": ".py",
   "mimetype": "text/x-python",
   "name": "python",
   "nbconvert_exporter": "python",
   "pygments_lexer": "ipython3",
   "version": "3.9.12"
  }
 },
 "nbformat": 4,
 "nbformat_minor": 4
}
